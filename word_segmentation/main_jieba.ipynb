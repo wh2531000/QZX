{
 "cells": [
  {
   "cell_type": "markdown",
   "id": "de6d488b-199f-4b58-bfa6-7c2adfd3cbda",
   "metadata": {},
   "source": [
    "#结巴分词的实践"
   ]
  },
  {
   "cell_type": "markdown",
   "id": "b5cd4fbb-1724-47ce-83b1-04efee25ba4b",
   "metadata": {},
   "source": [
    "##结巴分词的三种模式"
   ]
  },
  {
   "cell_type": "markdown",
   "id": "e342aa96-a366-43a8-9f45-a14fd5d691c9",
   "metadata": {},
   "source": [
    "###全模式"
   ]
  },
  {
   "cell_type": "code",
   "execution_count": 1,
   "id": "50ea4fe4-8750-45c7-8ec8-3205fb023aea",
   "metadata": {},
   "outputs": [
    {
     "name": "stderr",
     "output_type": "stream",
     "text": [
      "Building prefix dict from the default dictionary ...\n",
      "Loading model from cache C:\\Users\\QIUZIX~1\\AppData\\Local\\Temp\\jieba.cache\n",
      "Loading model cost 0.480 seconds.\n",
      "Prefix dict has been built successfully.\n"
     ]
    },
    {
     "name": "stdout",
     "output_type": "stream",
     "text": [
      "Full Mode:我/来到/北京/清华/清华大学/华大/大学\n"
     ]
    }
   ],
   "source": [
    "import jieba\n",
    "seg_list = jieba.cut(\"我来到北京清华大学\",cut_all=True)\n",
    "print(\"Full Mode:\" + \"/\".join(seg_list)) # 全模式"
   ]
  },
  {
   "cell_type": "markdown",
   "id": "96a88261-2072-444f-af6e-3c810ff2cbd2",
   "metadata": {},
   "source": [
    "###精确模式"
   ]
  },
  {
   "cell_type": "code",
   "execution_count": 2,
   "id": "58de3ff1-f9ef-4409-94e6-d4f2505c996f",
   "metadata": {},
   "outputs": [
    {
     "name": "stdout",
     "output_type": "stream",
     "text": [
      "Default Mode:我/ 来到/ 北京/ 清华大学\n"
     ]
    }
   ],
   "source": [
    "seg_list = jieba.cut(\"我来到北京清华大学\",cut_all=False)\n",
    "print(\"Default Mode:\" + \"/ \".join(seg_list)) # 精确模式"
   ]
  },
  {
   "cell_type": "markdown",
   "id": "2c5a1060-bad2-4cb5-95f5-9b1f1e77adc9",
   "metadata": {},
   "source": [
    "###搜索引擎模式"
   ]
  },
  {
   "cell_type": "code",
   "execution_count": 5,
   "id": "84b97562-7014-4796-b6ba-e883afb71550",
   "metadata": {},
   "outputs": [
    {
     "name": "stdout",
     "output_type": "stream",
     "text": [
      "\n"
     ]
    }
   ],
   "source": [
    "set_list = jieba.cut_for_search(\"小明硕士毕业于中国科学院计算所，后在日本京都大学深造\") # 搜索引擎模式\n",
    "print(\", \".join(seg_list))"
   ]
  },
  {
   "cell_type": "markdown",
   "id": "3fa06ea8-cab8-4123-9cc0-7ecd0c76da96",
   "metadata": {},
   "source": [
    "##载入词典"
   ]
  },
  {
   "cell_type": "code",
   "execution_count": 13,
   "id": "a35bd32e-7b5c-4e97-b028-8d5a7a7665c4",
   "metadata": {},
   "outputs": [
    {
     "name": "stdout",
     "output_type": "stream",
     "text": [
      "Default Mode: 邱子轩/ 即将/ 是/ 自然语言/ 处理/ 方面/ 的/ 高手\n"
     ]
    }
   ],
   "source": [
    "jieba.load_userdict(\"userdict.txt\")\n",
    "seg_list = jieba.cut(\"邱子轩即将是自然语言处理方面的高手\",cut_all=False,HMM=False)\n",
    "print(\"Default Mode: \" + \"/ \".join(seg_list))"
   ]
  },
  {
   "cell_type": "markdown",
   "id": "24418f7b-374e-49e3-9674-c262ee2dccea",
   "metadata": {},
   "source": [
    "#关键词提取"
   ]
  },
  {
   "cell_type": "code",
   "execution_count": 14,
   "id": "5b769ca9-1e1f-4057-8a1a-df9bd586fa53",
   "metadata": {},
   "outputs": [
    {
     "name": "stdout",
     "output_type": "stream",
     "text": [
      "提取的top-5关键词为：\n",
      "['重点', '大学', '国家', '河北省', '共建']\n"
     ]
    }
   ],
   "source": [
    "import jieba.analyse\n",
    "text = \"燕山大学是河北省人民政府、教育部、工业和信息化部、国家国防科技工业局四方共建的全国重点大学，河北省重点支持的国家一流大学和世界一流学科建设高校，北京高科大学联盟成员。\"\n",
    "# 基于TextRank算法提取关键词\n",
    "keywords = jieba.analyse.textrank(text, topK=5, withWeight=False)\n",
    "print(\"提取的top-5关键词为：\")\n",
    "print(keywords)"
   ]
  }
 ],
 "metadata": {
  "kernelspec": {
   "display_name": "Python 3 (ipykernel)",
   "language": "python",
   "name": "python3"
  },
  "language_info": {
   "codemirror_mode": {
    "name": "ipython",
    "version": 3
   },
   "file_extension": ".py",
   "mimetype": "text/x-python",
   "name": "python",
   "nbconvert_exporter": "python",
   "pygments_lexer": "ipython3",
   "version": "3.9.21"
  }
 },
 "nbformat": 4,
 "nbformat_minor": 5
}
